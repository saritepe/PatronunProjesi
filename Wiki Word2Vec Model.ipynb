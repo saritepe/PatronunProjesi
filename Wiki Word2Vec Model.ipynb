{
 "cells": [
  {
   "cell_type": "code",
   "execution_count": 1,
   "metadata": {},
   "outputs": [],
   "source": [
    "import numpy as np\n",
    "from gensim.models import Word2Vec\n",
    "from sklearn.manifold import TSNE\n",
    "import matplotlib.pyplot as plt\n",
    "from sklearn.metrics.pairwise import cosine_similarity"
   ]
  },
  {
   "cell_type": "code",
   "execution_count": 2,
   "metadata": {},
   "outputs": [],
   "source": [
    "f = open('trwiki_plain_utf8.txt', 'r', encoding='utf8')\n",
    "text = f.read()\n",
    "t_list = text.split('\\n')"
   ]
  },
  {
   "cell_type": "code",
   "execution_count": 3,
   "metadata": {},
   "outputs": [],
   "source": [
    "corpus = []\n",
    "\n",
    "for cumle in t_list:\n",
    "    corpus.append(cumle.split())"
   ]
  },
  {
   "cell_type": "code",
   "execution_count": null,
   "metadata": {},
   "outputs": [],
   "source": []
  },
  {
   "cell_type": "code",
   "execution_count": 4,
   "metadata": {},
   "outputs": [],
   "source": [
    "#print(corpus[:10])"
   ]
  },
  {
   "cell_type": "code",
   "execution_count": 5,
   "metadata": {},
   "outputs": [],
   "source": [
    "model = Word2Vec(corpus, size=100, window=5, min_count=5, sg=1)"
   ]
  },
  {
   "cell_type": "code",
   "execution_count": 6,
   "metadata": {},
   "outputs": [],
   "source": [
    "model.save('wiki_Word2Vec.model')"
   ]
  },
  {
   "cell_type": "code",
   "execution_count": 7,
   "metadata": {},
   "outputs": [],
   "source": [
    "model_vocab = model.wv.vocab.keys()"
   ]
  },
  {
   "cell_type": "code",
   "execution_count": 70,
   "metadata": {},
   "outputs": [],
   "source": [
    "data_sample = corpus"
   ]
  },
  {
   "cell_type": "code",
   "execution_count": 71,
   "metadata": {},
   "outputs": [],
   "source": [
    "def vectorization(ornek_cumle):\n",
    "    cumle_kontrol = 0\n",
    "    for kelime in ornek_cumle:\n",
    "        if kelime in model_vocab:\n",
    "            cumle_kontrol = 1\n",
    "    if cumle_kontrol == 1:\n",
    "        if len(ornek_cumle) > 0:\n",
    "            count = 0\n",
    "            ornek_vektor = 0        \n",
    "            for kelime in ornek_cumle:\n",
    "                if kelime in model_vocab:\n",
    "                    count += 1\n",
    "                    ornek_vektor += model.wv[kelime]\n",
    "            ornek_vektor /= count\n",
    "        #print('Doruk')\n",
    "        return ornek_vektor\n",
    "    else:\n",
    "        #print('Ugur')\n",
    "        return np.zeros(100)"
   ]
  },
  {
   "cell_type": "code",
   "execution_count": 73,
   "metadata": {},
   "outputs": [],
   "source": [
    "cumle_vektorleri = []\n",
    "for cumle in data_sample:\n",
    "    cumle_kontrol = 0\n",
    "    for kelime in cumle:\n",
    "        if kelime in model_vocab:\n",
    "            cumle_kontrol = 1\n",
    "    if cumle_kontrol == 1:\n",
    "        if len(cumle) > 0:\n",
    "            count = 0\n",
    "            vektor = 0        \n",
    "            for kelime in cumle:\n",
    "                if kelime in model_vocab:\n",
    "                    count += 1\n",
    "                    vektor += model.wv[kelime]\n",
    "            vektor /= count\n",
    "            cumle_vektorleri.append(vektor)\n",
    "    else:\n",
    "        cumle_vektorleri.append(np.zeros(100))"
   ]
  },
  {
   "cell_type": "code",
   "execution_count": 126,
   "metadata": {},
   "outputs": [],
   "source": [
    "ornek_cumle_temp = 'bugün yelken eğitimimde teknenin kısımlarını öğrendim'\n",
    "ornek_cumle = ornek_cumle_temp.split()"
   ]
  },
  {
   "cell_type": "code",
   "execution_count": 127,
   "metadata": {},
   "outputs": [],
   "source": [
    "ornek_vector = vectorization(ornek_cumle)"
   ]
  },
  {
   "cell_type": "code",
   "execution_count": 128,
   "metadata": {},
   "outputs": [],
   "source": [
    "def get_cosine_similarity(feature_vec_1, feature_vec_2):    \n",
    "    return cosine_similarity(feature_vec_1.reshape(1, -1), feature_vec_2.reshape(1, -1))[0][0]"
   ]
  },
  {
   "cell_type": "code",
   "execution_count": 129,
   "metadata": {},
   "outputs": [],
   "source": [
    "similarity = []\n",
    "\n",
    "for vektor1 in cumle_vektorleri:\n",
    "    similarity.append(get_cosine_similarity(vektor1, ornek_vector))"
   ]
  },
  {
   "cell_type": "code",
   "execution_count": 130,
   "metadata": {},
   "outputs": [],
   "source": [
    "np_similarity = np.array(similarity)"
   ]
  },
  {
   "cell_type": "code",
   "execution_count": 131,
   "metadata": {},
   "outputs": [
    {
     "data": {
      "text/plain": [
       "0.827586829662323"
      ]
     },
     "execution_count": 131,
     "metadata": {},
     "output_type": "execute_result"
    }
   ],
   "source": [
    "np_similarity.max()"
   ]
  },
  {
   "cell_type": "code",
   "execution_count": 132,
   "metadata": {},
   "outputs": [
    {
     "data": {
      "text/plain": [
       "2526"
      ]
     },
     "execution_count": 132,
     "metadata": {},
     "output_type": "execute_result"
    }
   ],
   "source": [
    "np_similarity.argmax()"
   ]
  },
  {
   "cell_type": "code",
   "execution_count": 133,
   "metadata": {},
   "outputs": [
    {
     "data": {
      "text/plain": [
       "array([-0.19389267, -0.01375331, -0.12011465, -0.20295994, -0.06608132,\n",
       "       -0.16839103,  0.42979157,  0.138777  , -0.18969165,  0.247283  ,\n",
       "       -0.18117017,  0.11444397, -0.13151355, -0.03023376, -0.02235907,\n",
       "       -0.06335716,  0.16062263, -0.17199184,  0.13117416,  0.49890527,\n",
       "       -0.18525589,  0.18166335, -0.02526008,  0.28016913,  0.11486872,\n",
       "        0.31909856,  0.07803295,  0.2958206 , -0.13828239,  0.10015506,\n",
       "       -0.09346752,  0.16143356,  0.08493569, -0.27396274, -0.13044381,\n",
       "       -0.18411192, -0.4042756 , -0.07699543, -0.10950498,  0.4044407 ,\n",
       "        0.24582952,  0.05764521,  0.21150988,  0.02327314, -0.1344523 ,\n",
       "        0.118439  ,  0.0845257 , -0.14410639,  0.19627811,  0.2888774 ,\n",
       "        0.15541038,  0.09250582, -0.03796464, -0.12008096, -0.27567258,\n",
       "        0.18435463,  0.25035623,  0.24137814,  0.090738  , -0.23337331,\n",
       "        0.03154127, -0.0250505 ,  0.11931333,  0.09288222, -0.20705773,\n",
       "        0.31448674, -0.10156496, -0.05837902,  0.2519824 ,  0.11153085,\n",
       "       -0.15116453,  0.22485538, -0.26077735, -0.2165169 , -0.00984049,\n",
       "       -0.18646479,  0.35999724, -0.32716665, -0.23872566, -0.17933178,\n",
       "        0.21868947,  0.0603717 ,  0.08855546,  0.28014052,  0.25998932,\n",
       "        0.08251334,  0.03057414,  0.2818013 , -0.02502437,  0.08083172,\n",
       "       -0.02351313,  0.07638863, -0.16292594,  0.05593484, -0.19404821,\n",
       "        0.09720023,  0.30123702,  0.05525948,  0.12134403, -0.15619779],\n",
       "      dtype=float32)"
      ]
     },
     "execution_count": 133,
     "metadata": {},
     "output_type": "execute_result"
    }
   ],
   "source": [
    "cumle_vektorleri[np_similarity.argmax()]"
   ]
  },
  {
   "cell_type": "code",
   "execution_count": 134,
   "metadata": {},
   "outputs": [],
   "source": [
    "#data_sample[np_similarity.argmax()]"
   ]
  },
  {
   "cell_type": "code",
   "execution_count": 135,
   "metadata": {},
   "outputs": [
    {
     "data": {
      "text/plain": [
       "'pupa denizcilikte yelkenli teknelerin seyirlerinden birinin adı pupa sözcüğü geminin kıç kısmı anlamına gelir pupa seyir buradan yola çıkarak arkadan esen rüzgâr ile seyir anlamına gelir tek kişilik yelkenlilerde dümencinin teknenin kıçına doğru yakın oturması gerekir iki kişilik teknelerde ise dümenci yine kıçta oturur flokçu da küpeştede değil teknenin içinde oturur pupa yelkende giden teknenin dengesi çabuk dümenci ve flokçu dengeyi sağlamaya özen göstermelidir salma tamamen yukarı çekilmelidir kaynakça ayrıca bakınız geniş apaz apaz orsa kategori denizcilik terimleri'"
      ]
     },
     "execution_count": 135,
     "metadata": {},
     "output_type": "execute_result"
    }
   ],
   "source": [
    "t_list[np_similarity.argmax()]"
   ]
  },
  {
   "cell_type": "code",
   "execution_count": 136,
   "metadata": {},
   "outputs": [
    {
     "name": "stdout",
     "output_type": "stream",
     "text": [
      "[-0.21923034 -0.05069739 -0.23351462 -0.1559827  -0.17165     0.12870583\n",
      "  0.5692705   0.2977198  -0.3340977   0.13224009 -0.06954901 -0.05691392\n",
      " -0.14314838 -0.14403002 -0.01077596 -0.10561018  0.25605002 -0.33681828\n",
      "  0.07440345  0.566363   -0.1750544   0.05680424  0.07263996  0.27818513\n",
      " -0.18308407  0.16778395  0.08687607  0.26373398 -0.06866942  0.29606408\n",
      " -0.0605108   0.07359508  0.01069313 -0.2678746  -0.09989639 -0.3206502\n",
      " -0.36462396  0.01139979 -0.11534107  0.26867723  0.17940304  0.08420688\n",
      "  0.17732319  0.06364039  0.10248835  0.18354411  0.14947046  0.06344905\n",
      "  0.2300694   0.2936871   0.01104774 -0.00545474 -0.04661286 -0.31971678\n",
      " -0.34072214  0.23690417  0.4166349   0.46231127  0.29185098 -0.3032308\n",
      " -0.00879641 -0.02152207  0.04973239 -0.27907458  0.22445457  0.37150317\n",
      " -0.01894638 -0.16197969  0.2651423   0.16624431 -0.21329634  0.36136335\n",
      " -0.39779124 -0.09372728  0.03712022  0.06592882  0.3108205  -0.32097358\n",
      " -0.05510951 -0.17549387  0.1292411   0.00997715  0.21986637  0.2411534\n",
      "  0.43951184  0.11537424  0.04150597  0.35068053  0.08799779  0.1888648\n",
      "  0.02206143  0.16458814 -0.19658388  0.25165695 -0.1481842   0.15727486\n",
      "  0.42042655  0.21065576 -0.10458503 -0.21183708]\n"
     ]
    }
   ],
   "source": [
    "print(ornek_vector)"
   ]
  },
  {
   "cell_type": "code",
   "execution_count": null,
   "metadata": {},
   "outputs": [],
   "source": []
  }
 ],
 "metadata": {
  "kernelspec": {
   "display_name": "Python 3",
   "language": "python",
   "name": "python3"
  },
  "language_info": {
   "codemirror_mode": {
    "name": "ipython",
    "version": 3
   },
   "file_extension": ".py",
   "mimetype": "text/x-python",
   "name": "python",
   "nbconvert_exporter": "python",
   "pygments_lexer": "ipython3",
   "version": "3.7.0"
  }
 },
 "nbformat": 4,
 "nbformat_minor": 2
}
